{
 "cells": [
  {
   "cell_type": "code",
   "execution_count": 3,
   "id": "ee90ffef",
   "metadata": {},
   "outputs": [],
   "source": [
    "import pandas as pd\n",
    "import os\n",
    "# import sys to get more detailed Python exception info\n",
    "import sys\n",
    "# import the connect library for psycopg2\n",
    "import psycopg2\n",
    "# import the error handling libraries for psycopg2\n",
    "from psycopg2 import OperationalError, errorcodes, errors\n",
    "import psycopg2.extras as extras\n",
    "import pandas as pd\n",
    "from io import StringIO\n",
    "import numpy as np\n",
    "from timeit import default_timer as timer\n",
    "import postgressql\n",
    "import mlflow\n",
    "import tempfile\n",
    "from sklearn.model_selection import train_test_split\n",
    "from sklearn.model_selection import GridSearchCV\n",
    "from sklearn import metrics\n",
    "from sklearn.ensemble import BaggingClassifier, RandomForestClassifier\n",
    "from sklearn.linear_model import LogisticRegression\n",
    "from scipy.stats import randint as sp_randint\n",
    "import helpers as h\n",
    "from datetime import datetime\n",
    "import model_evaluation as m_eval\n",
    "from sklearn.model_selection import RandomizedSearchCV"
   ]
  },
  {
   "cell_type": "code",
   "execution_count": 4,
   "id": "90661119",
   "metadata": {},
   "outputs": [],
   "source": [
    "os.environ['MLFLOW_TRACKING_URI'] = \"http://0.0.0.0:8000\"\n",
    "os.environ['MLFLOW_TRACKING_USERNAME'] = \"Pablo\""
   ]
  },
  {
   "cell_type": "code",
   "execution_count": 5,
   "id": "ff718b25",
   "metadata": {},
   "outputs": [],
   "source": [
    "client = mlflow.tracking.MlflowClient()"
   ]
  },
  {
   "cell_type": "code",
   "execution_count": 6,
   "id": "75631268",
   "metadata": {},
   "outputs": [
    {
     "data": {
      "text/plain": [
       "<Experiment: artifact_location='/Users/salv91/Desktop/mlflow_artifactRoot/mlruns/4', experiment_id='4', lifecycle_stage='active', name='bankchurners_Registering', tags={}>"
      ]
     },
     "execution_count": 6,
     "metadata": {},
     "output_type": "execute_result"
    }
   ],
   "source": [
    "mlflow.set_experiment(\"bankchurners_Registering\")"
   ]
  },
  {
   "cell_type": "code",
   "execution_count": 9,
   "id": "1b214bc6",
   "metadata": {},
   "outputs": [
    {
     "name": "stderr",
     "output_type": "stream",
     "text": [
      "Registered model 'churncustomers' already exists. Creating a new version of this model...\n",
      "2022/05/31 14:48:58 INFO mlflow.tracking._model_registry.client: Waiting up to 300 seconds for model version to finish creation.                     Model name: churncustomers, version 8\n"
     ]
    },
    {
     "name": "stdout",
     "output_type": "stream",
     "text": [
      "8\n",
      "<RunInfo: artifact_uri='/Users/salv91/Desktop/mlflow_artifactRoot/mlruns/4/94027455040d4e50bc302a80266b3f90/artifacts', end_time=None, experiment_id='4', lifecycle_stage='active', run_id='94027455040d4e50bc302a80266b3f90', run_uuid='94027455040d4e50bc302a80266b3f90', start_time=1654026538036, status='RUNNING', user_id='salv91'>\n"
     ]
    },
    {
     "name": "stderr",
     "output_type": "stream",
     "text": [
      "Created version '8' of model 'churncustomers'.\n"
     ]
    }
   ],
   "source": [
    "with mlflow.start_run(run_name=\"Registering\") as run:\n",
    "    \n",
    "    date = datetime.now().strftime('%Y-%m-%d %H:%M:%S')\n",
    "    user = \"Pablo\"\n",
    "    run_id = \"96ee1f20ad2b4987910724247d207b63\"\n",
    "    artifact_path = \"model\"\n",
    "    model_name = \"churncustomers\"\n",
    "    stage= \"Staging\"\n",
    "    model_description = f\"Model registered from run {run_id} at {date} by {user}\"\n",
    "    \n",
    "    #Registering Model\n",
    "    model_uri = \"runs:/{run_id}/{artifact_path}\".format(run_id=run_id, artifact_path=artifact_path)\n",
    "    model_details = mlflow.register_model(model_uri=model_uri, name=model_name)\n",
    "    \n",
    "    h.wait_until_ready(client,model_details.name, model_details.version)\n",
    "    \n",
    "    client.transition_model_version_stage(\n",
    "        name=model_details.name,\n",
    "        version=model_details.version,\n",
    "        stage=stage,\n",
    "    )\n",
    "\n",
    "    client.update_model_version(\n",
    "        name=model_details.name,\n",
    "        version=model_details.version,\n",
    "        description=model_description\n",
    "    )\n",
    "    print(model_details.version)\n",
    "\n",
    "    #print info run\n",
    "    run_id = run.info.run_id\n",
    "    mlflow.set_tag(\"run_id\", run_id)\n",
    "    print(run.info)\n",
    "    mlflow.end_run()"
   ]
  },
  {
   "cell_type": "code",
   "execution_count": 10,
   "id": "b32464b0",
   "metadata": {},
   "outputs": [],
   "source": [
    "#mlflow.search_runs(experiment_ids=[\"\"])"
   ]
  },
  {
   "cell_type": "code",
   "execution_count": 11,
   "id": "b6a814e2",
   "metadata": {},
   "outputs": [
    {
     "name": "stdout",
     "output_type": "stream",
     "text": [
      "The current production version of the model 'churncustomers' is '6'.\n",
      "The latest staging version of the model 'churncustomers' is '8'.\n",
      "The latest production version of the model 'churncustomers' is '8'.\n",
      "<RunInfo: artifact_uri='/Users/salv91/Desktop/mlflow_artifactRoot/mlruns/4/977207082220484faed78b92385ee9d5/artifacts', end_time=None, experiment_id='4', lifecycle_stage='active', run_id='977207082220484faed78b92385ee9d5', run_uuid='977207082220484faed78b92385ee9d5', start_time=1654026540980, status='RUNNING', user_id='salv91'>\n"
     ]
    }
   ],
   "source": [
    "with mlflow.start_run(run_name=\"Promotion\") as run:\n",
    "    \n",
    "    date = datetime.now().strftime('%Y-%m-%d %H:%M:%S')\n",
    "    user = \"Pablo\"\n",
    "    run_id = \"96ee1f20ad2b4987910724247d207b63\"\n",
    "    artifact_path = \"model\"\n",
    "    model_name = \"churncustomers\"\n",
    "    stage= \"Staging\"\n",
    "    model_description = f\"Model registered from run {run_id} at {date} by {user}\"\n",
    "    \n",
    "    h.model_promotion_to_prod(client,model_name,artifact_path)\n",
    "\n",
    "    #print info run\n",
    "    run_id = run.info.run_id\n",
    "    mlflow.set_tag(\"run_id\", run_id)\n",
    "    print(run.info)\n",
    "    mlflow.end_run()"
   ]
  },
  {
   "cell_type": "code",
   "execution_count": null,
   "id": "5f9bc9fb",
   "metadata": {},
   "outputs": [],
   "source": []
  }
 ],
 "metadata": {
  "kernelspec": {
   "display_name": "ml_bankchurners",
   "language": "python",
   "name": "ml_bankchurners"
  },
  "language_info": {
   "codemirror_mode": {
    "name": "ipython",
    "version": 3
   },
   "file_extension": ".py",
   "mimetype": "text/x-python",
   "name": "python",
   "nbconvert_exporter": "python",
   "pygments_lexer": "ipython3",
   "version": "3.9.0"
  }
 },
 "nbformat": 4,
 "nbformat_minor": 5
}
