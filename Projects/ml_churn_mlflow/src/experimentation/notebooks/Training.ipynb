{
 "cells": [
  {
   "cell_type": "code",
   "execution_count": 1,
   "id": "ee90ffef",
   "metadata": {},
   "outputs": [],
   "source": [
    "import pandas as pd\n",
    "import os\n",
    "# import sys to get more detailed Python exception info\n",
    "import sys\n",
    "# import the connect library for psycopg2\n",
    "import psycopg2\n",
    "# import the error handling libraries for psycopg2\n",
    "from psycopg2 import OperationalError, errorcodes, errors\n",
    "import psycopg2.extras as extras\n",
    "import pandas as pd\n",
    "from io import StringIO\n",
    "import numpy as np\n",
    "from timeit import default_timer as timer\n",
    "import postgressql\n",
    "import mlflow\n",
    "import tempfile\n",
    "from sklearn.model_selection import train_test_split\n",
    "from sklearn.model_selection import GridSearchCV\n",
    "from sklearn import metrics\n",
    "from sklearn.ensemble import BaggingClassifier, RandomForestClassifier\n",
    "from sklearn.linear_model import LogisticRegression\n",
    "from scipy.stats import randint as sp_randint\n",
    "import helpers as h\n",
    "import model_evaluation as m_eval\n",
    "from sklearn.model_selection import RandomizedSearchCV"
   ]
  },
  {
   "cell_type": "code",
   "execution_count": 2,
   "id": "90661119",
   "metadata": {},
   "outputs": [],
   "source": [
    "os.environ['MLFLOW_TRACKING_URI'] = \"http://0.0.0.0:8000\"\n",
    "os.environ['MLFLOW_TRACKING_USERNAME'] = \"Pablo\""
   ]
  },
  {
   "cell_type": "code",
   "execution_count": 3,
   "id": "ff718b25",
   "metadata": {},
   "outputs": [],
   "source": [
    "client = mlflow.tracking.MlflowClient()"
   ]
  },
  {
   "cell_type": "code",
   "execution_count": 4,
   "id": "75631268",
   "metadata": {},
   "outputs": [
    {
     "data": {
      "text/plain": [
       "<Experiment: artifact_location='/Users/salv91/Desktop/mlflow_artifactRoot/mlruns/3', experiment_id='3', lifecycle_stage='active', name='bankchurners_training', tags={}>"
      ]
     },
     "execution_count": 4,
     "metadata": {},
     "output_type": "execute_result"
    }
   ],
   "source": [
    "mlflow.set_experiment(\"bankchurners_training\")"
   ]
  },
  {
   "cell_type": "code",
   "execution_count": 5,
   "id": "1b214bc6",
   "metadata": {},
   "outputs": [
    {
     "name": "stdout",
     "output_type": "stream",
     "text": [
      "Accuracy on training set :  0.9998589164785553\n",
      "Accuracy on test set :  0.9608423823626193\n",
      "Recall on training set :  0.9991220368744512\n",
      "Recall on test set :  0.8586065573770492\n",
      "Precision on training set :  1.0\n",
      "Precision on test set :  0.8933901918976546\n",
      "<RunInfo: artifact_uri='/Users/salv91/Desktop/mlflow_artifactRoot/mlruns/3/96ee1f20ad2b4987910724247d207b63/artifacts', end_time=None, experiment_id='3', lifecycle_stage='active', run_id='96ee1f20ad2b4987910724247d207b63', run_uuid='96ee1f20ad2b4987910724247d207b63', start_time=1654025190132, status='RUNNING', user_id='salv91'>\n"
     ]
    },
    {
     "data": {
      "image/png": "[encoded data removed]",
      "text/plain": [
       "<Figure size 720x504 with 2 Axes>"
      ]
     },
     "metadata": {
      "needs_background": "light"
     },
     "output_type": "display_data"
    }
   ],
   "source": [
    "with mlflow.start_run(run_name=\"Training\") as run:\n",
    "    \n",
    "    # consume features\n",
    "    \n",
    "    df = pd.read_csv(\"/Users/salv91/Desktop/mlflow_artifactRoot/mlruns/2/f458ae6da86f4003bfdd93625c7d466f/artifacts/Feature_Data/Feature_Data_7k92zmiz.csv\",na_values = [\"n.a.\",\"?\",\"NA\",\"n/a\", \"na\", \"--\",\"nan\"],index_col=False)\n",
    "    \n",
    "    # Train/test Split\n",
    "    \n",
    "    X = df.drop(\"Attrition_Flag\" , axis=1)\n",
    "    y = df.pop(\"Attrition_Flag\")\n",
    "    \n",
    "    X_train, X_test, y_train, y_test= train_test_split(X, y, test_size=.30, random_state=1, stratify=y)\n",
    "    \n",
    "    #register Train/Test\n",
    "    \n",
    "    h.register_dataframe(X_train,mlflow_artifact_directory=\"Training_data\",prefix=\"Training_Data_Features_\", suffix=\".csv\")\n",
    "    h.register_dataframe(y_train,mlflow_artifact_directory=\"Training_data\",prefix=\"Training_Data_Target_\", suffix=\".csv\")\n",
    "    h.register_dataframe(X_test,mlflow_artifact_directory=\"Training_data\",prefix=\"Test_Data_Features_\", suffix=\".csv\")\n",
    "    h.register_dataframe(y_test,mlflow_artifact_directory=\"Training_data\",prefix=\"Test_Data_Target_\", suffix=\".csv\")\n",
    "        \n",
    "        \n",
    "    # Choose the type of classifier. \n",
    "    bagging_estimator_tuned = BaggingClassifier(random_state=1,n_jobs=-1)\n",
    "\n",
    "    # Grid of parameters to choose from\n",
    "    parameters = {'max_samples': [0.1,0.6,0.9,1], \n",
    "                  'max_features': [0.1,0.6,0.8,0.9,1],\n",
    "                  'n_estimators' : [10,20,40,50,100],\n",
    "                 }\n",
    "\n",
    "    # Type of scoring used to compare parameter combinations\n",
    "    acc_scorer = metrics.make_scorer(metrics.recall_score)\n",
    "    n_iter_search = 50\n",
    "    #cv = RepeatedStratifiedKFold(n_splits=10, n_repeats=2, random_state=1)\n",
    "    # Run the grid search\n",
    "    grid_obj = RandomizedSearchCV(bagging_estimator_tuned, n_iter=n_iter_search, param_distributions=parameters,verbose=0, scoring=acc_scorer,cv=5,n_jobs=4)\n",
    "    grid_obj = grid_obj.fit(X_train, y_train)\n",
    "\n",
    "    # Set the clf to the best combination of parameters\n",
    "    bagging_estimator_tuned = grid_obj.best_estimator_\n",
    "\n",
    "    # Fit the best algorithm to the data.\n",
    "    bagging_estimator_tuned.fit(X_train, y_train)\n",
    "    \n",
    "    #Logging Model\n",
    "    mlflow.sklearn.log_model(bagging_estimator_tuned,\"model\")\n",
    "    \n",
    "    ## Evaluation \n",
    "    \n",
    "    test_acc,test_recall,test_precision,bagging_estimator_score=m_eval.get_metrics_score(bagging_estimator_tuned,X_train, X_test, y_train, y_test)\n",
    "    cm = m_eval.make_confusion_matrix(bagging_estimator_tuned,X_test,y_test)\n",
    "    \n",
    "    temp = tempfile.NamedTemporaryFile(prefix=\"cm\", suffix=\".jpeg\")\n",
    "    temp_name = temp.name\n",
    "    \n",
    "    try:\n",
    "        cm.figure.savefig(temp_name)\n",
    "        mlflow.log_artifact(temp_name,\"Evaluation\")\n",
    "    finally:\n",
    "        temp.close() # Delete the temp file \n",
    "    \n",
    "    #Logging Metrics\n",
    "    mlflow.log_metric(\"test_acc\", test_acc)\n",
    "    mlflow.log_metric(\"test_recall\", test_recall)\n",
    "    mlflow.log_metric(\"test_precision\", test_precision)\n",
    "    \n",
    "    #Logging Parameters \n",
    "    params = bagging_estimator_tuned.get_params()\n",
    "    for i in params: \n",
    "        mlflow.log_param(i,params[i])\n",
    "    \n",
    "    #print info run\n",
    "    run_id = run.info.run_id\n",
    "    mlflow.set_tag(\"run_id\", run_id)\n",
    "    print(run.info)\n",
    "    mlflow.end_run()"
   ]
  },
  {
   "cell_type": "code",
   "execution_count": 6,
   "id": "a7b20b95",
   "metadata": {},
   "outputs": [],
   "source": [
    "#mlflow.search_runs(experiment_ids=[\"\"])"
   ]
  }
 ],
 "metadata": {
  "kernelspec": {
   "display_name": "ml_bankchurners",
   "language": "python",
   "name": "ml_bankchurners"
  },
  "language_info": {
   "codemirror_mode": {
    "name": "ipython",
    "version": 3
   },
   "file_extension": ".py",
   "mimetype": "text/x-python",
   "name": "python",
   "nbconvert_exporter": "python",
   "pygments_lexer": "ipython3",
   "version": "3.9.0"
  }
 },
 "nbformat": 4,
 "nbformat_minor": 5
}
