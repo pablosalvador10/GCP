{
 "cells": [
  {
   "cell_type": "code",
   "execution_count": 13,
   "id": "ee90ffef",
   "metadata": {},
   "outputs": [],
   "source": [
    "import pandas as pd\n",
    "import os\n",
    "# import sys to get more detailed Python exception info\n",
    "import sys\n",
    "# import the connect library for psycopg2\n",
    "import psycopg2\n",
    "# import the error handling libraries for psycopg2\n",
    "from psycopg2 import OperationalError, errorcodes, errors\n",
    "import psycopg2.extras as extras\n",
    "import pandas as pd\n",
    "from io import StringIO\n",
    "import numpy as np\n",
    "from timeit import default_timer as timer\n",
    "import postgressql\n",
    "import mlflow\n",
    "import tempfile"
   ]
  },
  {
   "cell_type": "code",
   "execution_count": 7,
   "id": "90661119",
   "metadata": {},
   "outputs": [],
   "source": [
    "conn_params_dic = {\n",
    "    \"host\"      : \"localhost\",\n",
    "    \"database\"  : \"bank_raw_data\",\n",
    "    \"user\"      : \"mlflow_user\"\n",
    "}\n",
    "\n",
    "os.environ['MLFLOW_TRACKING_URI'] = \"http://0.0.0.0:8000\"\n",
    "os.environ['MLFLOW_TRACKING_USERNAME'] = \"Pablo\""
   ]
  },
  {
   "cell_type": "code",
   "execution_count": 8,
   "id": "ff718b25",
   "metadata": {},
   "outputs": [],
   "source": [
    "client = mlflow.tracking.MlflowClient()"
   ]
  },
  {
   "cell_type": "code",
   "execution_count": 11,
   "id": "75631268",
   "metadata": {},
   "outputs": [
    {
     "name": "stderr",
     "output_type": "stream",
     "text": [
      "2022/05/30 23:53:29 INFO mlflow.tracking.fluent: Experiment with name 'bankchurners_etl' does not exist. Creating a new experiment.\n"
     ]
    },
    {
     "data": {
      "text/plain": [
       "<Experiment: artifact_location='/Users/salv91/Desktop/mlflow_artifactRoot/mlruns/1', experiment_id='1', lifecycle_stage='active', name='bankchurners_etl', tags={}>"
      ]
     },
     "execution_count": 11,
     "metadata": {},
     "output_type": "execute_result"
    }
   ],
   "source": [
    "mlflow.set_experiment(\"bankchurners_etl\")"
   ]
  },
  {
   "cell_type": "code",
   "execution_count": 19,
   "id": "1b214bc6",
   "metadata": {},
   "outputs": [
    {
     "name": "stdout",
     "output_type": "stream",
     "text": [
      "Connecting to the PostgreSQL...........\n",
      "Connection successfully..................\n",
      "<RunInfo: artifact_uri='/Users/salv91/Desktop/mlflow_artifactRoot/mlruns/1/dd03e24808ee404296c929ee7c13a63b/artifacts', end_time=None, experiment_id='1', lifecycle_stage='active', run_id='dd03e24808ee404296c929ee7c13a63b', run_uuid='dd03e24808ee404296c929ee7c13a63b', start_time=1653973322616, status='RUNNING', user_id='salv91'>\n"
     ]
    }
   ],
   "source": [
    "with mlflow.start_run() as run:\n",
    "    \n",
    "    connection=postgressql.connect(conn_params_dic)\n",
    "    column_names=['CLIENTNUM', 'Attrition_Flag', 'Customer_Age', 'Gender',\n",
    "       'Dependent_count', 'Education_Level', 'Marital_Status',\n",
    "       'Income_Category', 'Card_Category', 'Months_on_book',\n",
    "       'Total_Relationship_Count', 'Months_Inactive_12_mon',\n",
    "       'Contacts_Count_12_mon', 'Credit_Limit', 'Total_Revolving_Bal',\n",
    "       'Avg_Open_To_Buy', 'Total_Amt_Chng_Q4_Q1', 'Total_Trans_Amt',\n",
    "       'Total_Trans_Ct', 'Total_Ct_Chng_Q4_Q1', 'Avg_Utilization_Ratio']\n",
    "\n",
    "    table_name = \"users\"\n",
    "\n",
    "    df = postgressql.query_read(connection,column_names=column_names,table_name = \"users\")\n",
    "    \n",
    "    temp = tempfile.NamedTemporaryFile(prefix=\"Raw_Data_\", suffix=\".csv\")\n",
    "    temp_name = temp.name\n",
    "    \n",
    "    try:\n",
    "        df.to_csv(temp_name, index=False)\n",
    "        mlflow.log_artifact(temp_name, \"Raw_Data\")\n",
    "    finally:\n",
    "        temp.close() # Delete the temp file\n",
    "\n",
    "    #print info run\n",
    "    run_id = run.info.run_id\n",
    "    mlflow.set_tag(\"run_id\", run_id)\n",
    "    print(run.info)\n",
    "    mlflow.end_run()"
   ]
  },
  {
   "cell_type": "code",
   "execution_count": null,
   "id": "8003f174",
   "metadata": {},
   "outputs": [],
   "source": []
  }
 ],
 "metadata": {
  "kernelspec": {
   "display_name": "ml_bankchurners",
   "language": "python",
   "name": "ml_bankchurners"
  },
  "language_info": {
   "codemirror_mode": {
    "name": "ipython",
    "version": 3
   },
   "file_extension": ".py",
   "mimetype": "text/x-python",
   "name": "python",
   "nbconvert_exporter": "python",
   "pygments_lexer": "ipython3",
   "version": "3.9.0"
  }
 },
 "nbformat": 4,
 "nbformat_minor": 5
}
