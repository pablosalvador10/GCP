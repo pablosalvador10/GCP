{
 "cells": [
  {
   "cell_type": "code",
   "execution_count": 10,
   "id": "ee90ffef",
   "metadata": {},
   "outputs": [],
   "source": [
    "import pandas as pd\n",
    "import os\n",
    "# import sys to get more detailed Python exception info\n",
    "import sys\n",
    "# import the connect library for psycopg2\n",
    "import psycopg2\n",
    "# import the error handling libraries for psycopg2\n",
    "from psycopg2 import OperationalError, errorcodes, errors\n",
    "import psycopg2.extras as extras\n",
    "import pandas as pd\n",
    "from io import StringIO\n",
    "import numpy as np\n",
    "from timeit import default_timer as timer\n",
    "import postgressql\n",
    "import mlflow\n",
    "import tempfile\n",
    "from sklearn import preprocessing"
   ]
  },
  {
   "cell_type": "code",
   "execution_count": 11,
   "id": "90661119",
   "metadata": {},
   "outputs": [],
   "source": [
    "os.environ['MLFLOW_TRACKING_URI'] = \"http://0.0.0.0:8000\"\n",
    "os.environ['MLFLOW_TRACKING_USERNAME'] = \"Pablo\""
   ]
  },
  {
   "cell_type": "code",
   "execution_count": 12,
   "id": "ff718b25",
   "metadata": {},
   "outputs": [],
   "source": [
    "client = mlflow.tracking.MlflowClient()"
   ]
  },
  {
   "cell_type": "code",
   "execution_count": 13,
   "id": "75631268",
   "metadata": {},
   "outputs": [
    {
     "data": {
      "text/plain": [
       "<Experiment: artifact_location='/Users/salv91/Desktop/mlflow_artifactRoot/mlruns/2', experiment_id='2', lifecycle_stage='active', name='bankchurners_feature_Engineering', tags={}>"
      ]
     },
     "execution_count": 13,
     "metadata": {},
     "output_type": "execute_result"
    }
   ],
   "source": [
    "mlflow.set_experiment(\"bankchurners_feature_Engineering\")"
   ]
  },
  {
   "cell_type": "code",
   "execution_count": 14,
   "id": "cc8d0f18",
   "metadata": {},
   "outputs": [],
   "source": [
    "def Feature_engineering(location): \n",
    "\n",
    "    #load the data\n",
    "    df = pd.read_csv(f\"{location}\",na_values = [\"n.a.\",\"?\",\"NA\",\"n/a\", \"na\", \"--\",\"nan\"],index_col=False) \n",
    "    \n",
    "    labelencoder = preprocessing.LabelEncoder()\n",
    "    \n",
    "    df['Gender'] = labelencoder.fit_transform(df['Gender'])\n",
    "    \n",
    "    oneHotCols=[\"Card_Category\",\"Marital_Status\"]\n",
    "    \n",
    "    df=pd.get_dummies(df, columns=oneHotCols)\n",
    "    \n",
    "    replaceStruct = {\n",
    "                    \"Attrition_Flag\": {\"Existing Customer\":0,\"Attrited Customer\": 1},\n",
    "                    \"Education_Level\": {\"Doctorate\": 5,\"Post-Graduate\": 4,\"Graduate\": 3,\"College\": 2,\"High School\": 1,\"Unknown\": 0,\"Uneducated\": -1 },\n",
    "                    \"Income_Category\": {\"$120K +\": 4, \"$80K - $120K\": 3, \"$60K - $80K\": 2, \"$40K - $60K\": 1, \"Unknown\" :0, \"Less than $40K\": -1}\n",
    "                        }\n",
    "\n",
    "    df=df.replace(replaceStruct)\n",
    "\n",
    "    return df "
   ]
  },
  {
   "cell_type": "code",
   "execution_count": 15,
   "id": "1b214bc6",
   "metadata": {},
   "outputs": [
    {
     "name": "stdout",
     "output_type": "stream",
     "text": [
      "<RunInfo: artifact_uri='/Users/salv91/Desktop/mlflow_artifactRoot/mlruns/2/f458ae6da86f4003bfdd93625c7d466f/artifacts', end_time=None, experiment_id='2', lifecycle_stage='active', run_id='f458ae6da86f4003bfdd93625c7d466f', run_uuid='f458ae6da86f4003bfdd93625c7d466f', start_time=1654009686296, status='RUNNING', user_id='salv91'>\n"
     ]
    }
   ],
   "source": [
    "with mlflow.start_run() as run:\n",
    "    \n",
    "    dataFrame = Feature_engineering(location=\"/Users/salv91/Desktop/mlflow_artifactRoot/mlruns/1/dd03e24808ee404296c929ee7c13a63b/artifacts/Raw_Data/Raw_Data_ek43an8g.csv\")\n",
    "    \n",
    "    temp = tempfile.NamedTemporaryFile(prefix=\"Feature_Data_\", suffix=\".csv\")\n",
    "    temp_name = temp.name\n",
    "    \n",
    "    try:\n",
    "        dataFrame.to_csv(temp_name, index=False)\n",
    "        mlflow.log_artifact(temp_name, \"Feature_Data\")\n",
    "    finally:\n",
    "        temp.close() # Delete the temp file\n",
    "\n",
    "    #print info run\n",
    "    run_id = run.info.run_id\n",
    "    mlflow.set_tag(\"run_id\", run_id)\n",
    "    print(run.info)\n",
    "    mlflow.end_run()"
   ]
  },
  {
   "cell_type": "code",
   "execution_count": null,
   "id": "8003f174",
   "metadata": {},
   "outputs": [],
   "source": []
  }
 ],
 "metadata": {
  "kernelspec": {
   "display_name": "ml_bankchurners",
   "language": "python",
   "name": "ml_bankchurners"
  },
  "language_info": {
   "codemirror_mode": {
    "name": "ipython",
    "version": 3
   },
   "file_extension": ".py",
   "mimetype": "text/x-python",
   "name": "python",
   "nbconvert_exporter": "python",
   "pygments_lexer": "ipython3",
   "version": "3.9.0"
  }
 },
 "nbformat": 4,
 "nbformat_minor": 5
}
